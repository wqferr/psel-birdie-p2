{
 "cells": [
  {
   "cell_type": "code",
   "execution_count": 1,
   "metadata": {},
   "outputs": [],
   "source": [
    "import pandas as pd\n",
    "import numpy as np"
   ]
  },
  {
   "cell_type": "code",
   "execution_count": 2,
   "metadata": {},
   "outputs": [
    {
     "data": {
      "text/html": [
       "<div>\n",
       "<style scoped>\n",
       "    .dataframe tbody tr th:only-of-type {\n",
       "        vertical-align: middle;\n",
       "    }\n",
       "\n",
       "    .dataframe tbody tr th {\n",
       "        vertical-align: top;\n",
       "    }\n",
       "\n",
       "    .dataframe thead th {\n",
       "        text-align: right;\n",
       "    }\n",
       "</style>\n",
       "<table border=\"1\" class=\"dataframe\">\n",
       "  <thead>\n",
       "    <tr style=\"text-align: right;\">\n",
       "      <th></th>\n",
       "      <th>TITLE</th>\n",
       "      <th>BRAND</th>\n",
       "      <th>MODEL</th>\n",
       "      <th>RAM</th>\n",
       "      <th>STORAGE</th>\n",
       "      <th>PLUS</th>\n",
       "      <th>COLOR</th>\n",
       "      <th>SCREEN_SIZE</th>\n",
       "    </tr>\n",
       "    <tr>\n",
       "      <th>ID</th>\n",
       "      <th></th>\n",
       "      <th></th>\n",
       "      <th></th>\n",
       "      <th></th>\n",
       "      <th></th>\n",
       "      <th></th>\n",
       "      <th></th>\n",
       "      <th></th>\n",
       "    </tr>\n",
       "  </thead>\n",
       "  <tbody>\n",
       "    <tr>\n",
       "      <th>7923488</th>\n",
       "      <td>Smartphone ASUS Zenfone II ZE551 16GB 4G Tela ...</td>\n",
       "      <td>asus</td>\n",
       "      <td>None</td>\n",
       "      <td>None</td>\n",
       "      <td>16</td>\n",
       "      <td>False</td>\n",
       "      <td>None</td>\n",
       "      <td>None</td>\n",
       "    </tr>\n",
       "    <tr>\n",
       "      <th>8105618</th>\n",
       "      <td>Smartphone Asus Zenfone 2 ZE551ML, 4G Android ...</td>\n",
       "      <td>asus</td>\n",
       "      <td>zenfone 2</td>\n",
       "      <td>None</td>\n",
       "      <td>16</td>\n",
       "      <td>False</td>\n",
       "      <td>gold</td>\n",
       "      <td>None</td>\n",
       "    </tr>\n",
       "    <tr>\n",
       "      <th>10026591</th>\n",
       "      <td>Caminhão Super Bombeiro Resgate Som E Luz - Ma...</td>\n",
       "      <td>None</td>\n",
       "      <td>None</td>\n",
       "      <td>None</td>\n",
       "      <td>None</td>\n",
       "      <td>False</td>\n",
       "      <td>None</td>\n",
       "      <td>None</td>\n",
       "    </tr>\n",
       "    <tr>\n",
       "      <th>10027542</th>\n",
       "      <td>Transformers 4 Power Battlers Dinobot Strafe -...</td>\n",
       "      <td>None</td>\n",
       "      <td>None</td>\n",
       "      <td>None</td>\n",
       "      <td>None</td>\n",
       "      <td>False</td>\n",
       "      <td>None</td>\n",
       "      <td>None</td>\n",
       "    </tr>\n",
       "    <tr>\n",
       "      <th>10111398</th>\n",
       "      <td>Memoria 4gb Ddr3 1333 Kvr13n9s8/4 Kingston</td>\n",
       "      <td>None</td>\n",
       "      <td>None</td>\n",
       "      <td>None</td>\n",
       "      <td>4</td>\n",
       "      <td>False</td>\n",
       "      <td>None</td>\n",
       "      <td>None</td>\n",
       "    </tr>\n",
       "  </tbody>\n",
       "</table>\n",
       "</div>"
      ],
      "text/plain": [
       "                                                      TITLE BRAND      MODEL  \\\n",
       "ID                                                                             \n",
       "7923488   Smartphone ASUS Zenfone II ZE551 16GB 4G Tela ...  asus       None   \n",
       "8105618   Smartphone Asus Zenfone 2 ZE551ML, 4G Android ...  asus  zenfone 2   \n",
       "10026591  Caminhão Super Bombeiro Resgate Som E Luz - Ma...  None       None   \n",
       "10027542  Transformers 4 Power Battlers Dinobot Strafe -...  None       None   \n",
       "10111398         Memoria 4gb Ddr3 1333 Kvr13n9s8/4 Kingston  None       None   \n",
       "\n",
       "           RAM STORAGE   PLUS COLOR SCREEN_SIZE  \n",
       "ID                                               \n",
       "7923488   None      16  False  None        None  \n",
       "8105618   None      16  False  gold        None  \n",
       "10026591  None    None  False  None        None  \n",
       "10027542  None    None  False  None        None  \n",
       "10111398  None       4  False  None        None  "
      ]
     },
     "execution_count": 2,
     "metadata": {},
     "output_type": "execute_result"
    }
   ],
   "source": [
    "data = pd.read_csv('../3.feature_extraction/features.tsv', sep='\\t')\n",
    "data.set_index('ID', inplace=True)\n",
    "data = data.where(pd.notnull(data), None)\n",
    "data.head()"
   ]
  },
  {
   "cell_type": "code",
   "execution_count": 3,
   "metadata": {},
   "outputs": [],
   "source": [
    "# True se algum dos dois valores for None OU os valores forem diferentes.\n",
    "# Usados para comparação de campos \"obrigatórios\" para o match, como BRAND.\n",
    "def either_absent_or_different(entry_1, entry_2, columns):\n",
    "    for col in columns:\n",
    "        col_e1 = entry_1[col]\n",
    "        col_e2 = entry_2[col]\n",
    "        if col_e1 is None or col_e2 is None:\n",
    "            yield True\n",
    "        else:\n",
    "            yield col_e1 != col_e2\n",
    "\n",
    "\n",
    "# True se ambos os valores estiverem presentes e forem o mesmo.\n",
    "# Usado para comparação de specs como memória e armazenamento.\n",
    "def both_present_and_same(entry_1, entry_2, columns):\n",
    "    for col in columns:\n",
    "        col_e1 = entry_1[col]\n",
    "        col_e2 = entry_2[col]\n",
    "        if col_e1 is None or col_e2 is None:\n",
    "            yield False\n",
    "        else:\n",
    "            yield col_e1 == col_e2\n",
    "\n",
    "\n",
    "# True se ambos os valores estiverem presentes e não forem o mesmo.\n",
    "# Usado para encontrar diferenças de specs conhecidos.\n",
    "def both_present_and_different(entry_1, entry_2, columns):\n",
    "    for col in columns:\n",
    "        col_e1 = entry_1[col]\n",
    "        col_e2 = entry_2[col]\n",
    "        if col_e1 is None or col_e2 is None:\n",
    "            yield False\n",
    "        else:\n",
    "            yield col_e1 != col_e2"
   ]
  },
  {
   "cell_type": "markdown",
   "metadata": {},
   "source": [
    "Medida de incerteza do match. Definida como o número de campos\n",
    "None em pelo menos uma das instâncias.  \n",
    "Mesmo que o resultado seja um match, pode ser que as informações\n",
    "disponíveis apenas não tenham sido suficientes para detectar uma diferença\n",
    "com certeza.  \n",
    "Um valor maior dessa incerteza implica numa maior probabilidade de que\n",
    "o match seja devido a falta de informações e, portanto, um match falso.\n",
    "\n",
    "Dessa forma, um outro algoritmo mais adiante no processo pode considerar\n",
    "apenas matches com nível mais baixo de incerteza."
   ]
  },
  {
   "cell_type": "code",
   "execution_count": 4,
   "metadata": {},
   "outputs": [],
   "source": [
    "def null_distance(entry_1, entry_2):\n",
    "    relevant_cols = ['BRAND', 'MODEL', 'RAM', 'STORAGE', 'SCREEN_SIZE']\n",
    "    entry_1 = entry_1[relevant_cols]\n",
    "    entry_2 = entry_2[relevant_cols]\n",
    "    \n",
    "    e1_nulls = entry_1.isnull()\n",
    "    e2_nulls = entry_2.isnull()\n",
    "    \n",
    "    either_nulls = e1_nulls | e2_nulls\n",
    "    \n",
    "    return np.sum(either_nulls)"
   ]
  },
  {
   "cell_type": "code",
   "execution_count": 5,
   "metadata": {},
   "outputs": [],
   "source": [
    "def match(entry_1, entry_2):\n",
    "    spec_cols = ['RAM', 'STORAGE', 'SCREEN_SIZE']\n",
    "    null_dist = null_distance(entry_1, entry_2)\n",
    "    specs_in_common = both_present_and_same(entry_1, entry_2, spec_cols)\n",
    "    \n",
    "    if entry_1.PLUS != entry_2.PLUS:\n",
    "        return False, null_dist\n",
    "    elif any(either_absent_or_different(entry_1, entry_2, ['BRAND'])):\n",
    "        return False, null_dist\n",
    "    elif entry_1.MODEL is None or entry_2.MODEL is None:\n",
    "        # Se o modelo não foi identificado, assumir que são o mesmo se e somente se\n",
    "        # todos os specs existirem e forem os mesmos\n",
    "        return all(specs_in_common), null_dist\n",
    "    elif entry_1.MODEL != entry_2.MODEL:\n",
    "        return False, null_dist\n",
    "    elif any(both_present_and_different(entry_1, entry_2, spec_cols)):\n",
    "        return False, null_dist\n",
    "    else:\n",
    "        return True, null_dist\n",
    "\n",
    "\n",
    "def match_ids(id_1, id_2):\n",
    "    return match(data.loc[id_1], data.loc[id_2])"
   ]
  },
  {
   "cell_type": "code",
   "execution_count": 6,
   "metadata": {},
   "outputs": [],
   "source": [
    "from itertools import combinations"
   ]
  },
  {
   "cell_type": "code",
   "execution_count": 7,
   "metadata": {},
   "outputs": [
    {
     "name": "stderr",
     "output_type": "stream",
     "text": [
      "C:\\Users\\wqfer\\Anaconda3\\envs\\ml\\lib\\site-packages\\tqdm\\autonotebook\\__init__.py:14: TqdmExperimentalWarning: Using `tqdm.autonotebook.tqdm` in notebook mode. Use `tqdm.tqdm` instead to force console mode (e.g. in jupyter console)\n",
      "  \" (e.g. in jupyter console)\", TqdmExperimentalWarning)\n"
     ]
    }
   ],
   "source": [
    "# Biblioteca para barra de progresso.\n",
    "# O algorítmo é O(n^2), então pode demorar algum tempo.\n",
    "# Se não quiserem ou não puderem instalar a biblioteca, basta remover este import\n",
    "# e trocar o for por:\n",
    "#    for pair in pairs:\n",
    "from tqdm.autonotebook import tqdm\n",
    "\n",
    "def find_matches():\n",
    "    pairs = combinations(data.index, 2)\n",
    "    n_items = len(data)\n",
    "    n_pairs = (n_items * (n_items - 1)) // 2\n",
    "    for pair in tqdm(pairs, total=n_pairs, desc='Finding matches...'):\n",
    "        pair_match, dist = match_ids(*pair)\n",
    "        if pair_match:\n",
    "            yield pair, dist"
   ]
  },
  {
   "cell_type": "code",
   "execution_count": 8,
   "metadata": {},
   "outputs": [
    {
     "data": {
      "application/vnd.jupyter.widget-view+json": {
       "model_id": "ffdf3231eaff4811b930c9624ffafd75",
       "version_major": 2,
       "version_minor": 0
      },
      "text/plain": [
       "HBox(children=(IntProgress(value=0, description='Finding matches...', max=123753, style=ProgressStyle(descript…"
      ]
     },
     "metadata": {},
     "output_type": "display_data"
    },
    {
     "name": "stdout",
     "output_type": "stream",
     "text": [
      "\n"
     ]
    }
   ],
   "source": [
    "matches = pd.DataFrame(find_matches(), columns=['PAIR', 'UNCERTAINTY'])"
   ]
  },
  {
   "cell_type": "code",
   "execution_count": 9,
   "metadata": {},
   "outputs": [
    {
     "data": {
      "text/html": [
       "<div>\n",
       "<style scoped>\n",
       "    .dataframe tbody tr th:only-of-type {\n",
       "        vertical-align: middle;\n",
       "    }\n",
       "\n",
       "    .dataframe tbody tr th {\n",
       "        vertical-align: top;\n",
       "    }\n",
       "\n",
       "    .dataframe thead th {\n",
       "        text-align: right;\n",
       "    }\n",
       "</style>\n",
       "<table border=\"1\" class=\"dataframe\">\n",
       "  <thead>\n",
       "    <tr style=\"text-align: right;\">\n",
       "      <th></th>\n",
       "      <th>ID1</th>\n",
       "      <th>ID2</th>\n",
       "      <th>UNCERTAINTY</th>\n",
       "    </tr>\n",
       "  </thead>\n",
       "  <tbody>\n",
       "    <tr>\n",
       "      <th>0</th>\n",
       "      <td>8105618</td>\n",
       "      <td>10443427</td>\n",
       "      <td>3</td>\n",
       "    </tr>\n",
       "    <tr>\n",
       "      <th>1</th>\n",
       "      <td>8105618</td>\n",
       "      <td>10443622</td>\n",
       "      <td>3</td>\n",
       "    </tr>\n",
       "    <tr>\n",
       "      <th>2</th>\n",
       "      <td>10223260</td>\n",
       "      <td>10392630</td>\n",
       "      <td>3</td>\n",
       "    </tr>\n",
       "    <tr>\n",
       "      <th>3</th>\n",
       "      <td>10223260</td>\n",
       "      <td>10392657</td>\n",
       "      <td>3</td>\n",
       "    </tr>\n",
       "    <tr>\n",
       "      <th>4</th>\n",
       "      <td>10223260</td>\n",
       "      <td>10392663</td>\n",
       "      <td>3</td>\n",
       "    </tr>\n",
       "  </tbody>\n",
       "</table>\n",
       "</div>"
      ],
      "text/plain": [
       "        ID1       ID2  UNCERTAINTY\n",
       "0   8105618  10443427            3\n",
       "1   8105618  10443622            3\n",
       "2  10223260  10392630            3\n",
       "3  10223260  10392657            3\n",
       "4  10223260  10392663            3"
      ]
     },
     "execution_count": 9,
     "metadata": {},
     "output_type": "execute_result"
    }
   ],
   "source": [
    "from operator import itemgetter\n",
    "\n",
    "ids = matches.PAIR.apply([\n",
    "    itemgetter(0),\n",
    "    itemgetter(1)\n",
    "])\n",
    "matches.insert(0, 'ID1', ids.iloc[:, 0])\n",
    "matches.insert(1, 'ID2', ids.iloc[:, 1])\n",
    "matches.drop('PAIR', inplace=True, axis=1)\n",
    "matches.head()"
   ]
  },
  {
   "cell_type": "code",
   "execution_count": 10,
   "metadata": {},
   "outputs": [],
   "source": [
    "matches.to_csv('matches.tsv', sep='\\t', index=False)"
   ]
  }
 ],
 "metadata": {
  "kernelspec": {
   "display_name": "Python 3",
   "language": "python",
   "name": "python3"
  },
  "language_info": {
   "codemirror_mode": {
    "name": "ipython",
    "version": 3
   },
   "file_extension": ".py",
   "mimetype": "text/x-python",
   "name": "python",
   "nbconvert_exporter": "python",
   "pygments_lexer": "ipython3",
   "version": "3.6.6"
  }
 },
 "nbformat": 4,
 "nbformat_minor": 2
}
