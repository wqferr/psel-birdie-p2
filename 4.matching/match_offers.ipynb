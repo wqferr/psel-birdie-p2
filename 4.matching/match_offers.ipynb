{
 "cells": [
  {
   "cell_type": "code",
   "execution_count": 2,
   "metadata": {},
   "outputs": [],
   "source": [
    "import pandas as pd"
   ]
  },
  {
   "cell_type": "code",
   "execution_count": 3,
   "metadata": {},
   "outputs": [
    {
     "data": {
      "text/html": [
       "<div>\n",
       "<style scoped>\n",
       "    .dataframe tbody tr th:only-of-type {\n",
       "        vertical-align: middle;\n",
       "    }\n",
       "\n",
       "    .dataframe tbody tr th {\n",
       "        vertical-align: top;\n",
       "    }\n",
       "\n",
       "    .dataframe thead th {\n",
       "        text-align: right;\n",
       "    }\n",
       "</style>\n",
       "<table border=\"1\" class=\"dataframe\">\n",
       "  <thead>\n",
       "    <tr style=\"text-align: right;\">\n",
       "      <th></th>\n",
       "      <th>TITLE</th>\n",
       "      <th>BRAND</th>\n",
       "      <th>MODEL</th>\n",
       "      <th>PLUS</th>\n",
       "      <th>COLOR</th>\n",
       "      <th>SCREEN_SIZE</th>\n",
       "    </tr>\n",
       "    <tr>\n",
       "      <th>ID</th>\n",
       "      <th></th>\n",
       "      <th></th>\n",
       "      <th></th>\n",
       "      <th></th>\n",
       "      <th></th>\n",
       "      <th></th>\n",
       "    </tr>\n",
       "  </thead>\n",
       "  <tbody>\n",
       "    <tr>\n",
       "      <th>7923488</th>\n",
       "      <td>Smartphone ASUS Zenfone II ZE551 16GB 4G Tela ...</td>\n",
       "      <td>asus</td>\n",
       "      <td>None</td>\n",
       "      <td>False</td>\n",
       "      <td>None</td>\n",
       "      <td>None</td>\n",
       "    </tr>\n",
       "    <tr>\n",
       "      <th>8105618</th>\n",
       "      <td>Smartphone Asus Zenfone 2 ZE551ML, 4G Android ...</td>\n",
       "      <td>asus</td>\n",
       "      <td>zenfone 2</td>\n",
       "      <td>False</td>\n",
       "      <td>None</td>\n",
       "      <td>None</td>\n",
       "    </tr>\n",
       "    <tr>\n",
       "      <th>10026591</th>\n",
       "      <td>Caminhão Super Bombeiro Resgate Som E Luz - Ma...</td>\n",
       "      <td>None</td>\n",
       "      <td>None</td>\n",
       "      <td>False</td>\n",
       "      <td>None</td>\n",
       "      <td>None</td>\n",
       "    </tr>\n",
       "    <tr>\n",
       "      <th>10027542</th>\n",
       "      <td>Transformers 4 Power Battlers Dinobot Strafe -...</td>\n",
       "      <td>None</td>\n",
       "      <td>None</td>\n",
       "      <td>False</td>\n",
       "      <td>None</td>\n",
       "      <td>None</td>\n",
       "    </tr>\n",
       "    <tr>\n",
       "      <th>10111398</th>\n",
       "      <td>Memoria 4gb Ddr3 1333 Kvr13n9s8/4 Kingston</td>\n",
       "      <td>None</td>\n",
       "      <td>None</td>\n",
       "      <td>False</td>\n",
       "      <td>None</td>\n",
       "      <td>None</td>\n",
       "    </tr>\n",
       "  </tbody>\n",
       "</table>\n",
       "</div>"
      ],
      "text/plain": [
       "                                                      TITLE BRAND      MODEL  \\\n",
       "ID                                                                             \n",
       "7923488   Smartphone ASUS Zenfone II ZE551 16GB 4G Tela ...  asus       None   \n",
       "8105618   Smartphone Asus Zenfone 2 ZE551ML, 4G Android ...  asus  zenfone 2   \n",
       "10026591  Caminhão Super Bombeiro Resgate Som E Luz - Ma...  None       None   \n",
       "10027542  Transformers 4 Power Battlers Dinobot Strafe -...  None       None   \n",
       "10111398         Memoria 4gb Ddr3 1333 Kvr13n9s8/4 Kingston  None       None   \n",
       "\n",
       "           PLUS COLOR SCREEN_SIZE  \n",
       "ID                                 \n",
       "7923488   False  None        None  \n",
       "8105618   False  None        None  \n",
       "10026591  False  None        None  \n",
       "10027542  False  None        None  \n",
       "10111398  False  None        None  "
      ]
     },
     "execution_count": 3,
     "metadata": {},
     "output_type": "execute_result"
    }
   ],
   "source": [
    "data = pd.read_csv('../3.feature_extraction/features.tsv', sep='\\t')\n",
    "data.set_index('ID', inplace=True)\n",
    "data = data.where(pd.notnull(data), None)\n",
    "data.head()"
   ]
  },
  {
   "cell_type": "code",
   "execution_count": 16,
   "metadata": {},
   "outputs": [],
   "source": [
    "def fields_absent_or_different(entry_1, entry_2, column):\n",
    "    col_e1 = entry_1[column]\n",
    "    col_e2 = entry_2[column]\n",
    "    if col_e1 is None and col_e2 is None:\n",
    "        return False\n",
    "    else:\n",
    "        return col_e1 != col_e2\n",
    "    \n",
    "def fields_present_and_different(entry_1, entry_2, column):\n",
    "    col_e1 = entry_1[column]\n",
    "    col_e2 = entry_2[column]\n",
    "    if col_e1 is None or col_e2 is None:\n",
    "        return False\n",
    "    else:\n",
    "        return col_e1 != col_e2\n",
    "\n",
    "def entry_empty(entry):\n",
    "    fields_to_check = ['MODEL', 'BRAND', 'PLUS', 'SCREEN_SIZE']\n",
    "    if any(entry[fields_to_check]):\n",
    "        return False\n",
    "    else:\n",
    "        return True\n",
    "    \n",
    "def match(entry_1, entry_2):\n",
    "    if entry_empty(entry_1) or entry_empty(entry_2):\n",
    "        return False\n",
    "    \n",
    "    if fields_absent_or_different(entry_1, entry_2, 'BRAND'):\n",
    "        return False\n",
    "    elif fields_absent_or_different(entry_1, entry_2, 'MODEL'):\n",
    "        return False\n",
    "    elif entry_1.PLUS != entry_2.PLUS:\n",
    "        return False\n",
    "    elif fields_present_and_different(entry_1, entry_2, 'SCREEN_SIZE'):\n",
    "        return False\n",
    "    else:\n",
    "        return True\n",
    "\n",
    "def match_ids(id_1, id_2):\n",
    "    return match(data.loc[id_1], data.loc[id_2])"
   ]
  },
  {
   "cell_type": "code",
   "execution_count": 17,
   "metadata": {},
   "outputs": [],
   "source": [
    "from itertools import combinations"
   ]
  },
  {
   "cell_type": "code",
   "execution_count": 19,
   "metadata": {},
   "outputs": [],
   "source": [
    "def find_matches():\n",
    "    for pair in combinations(data.index, 2):\n",
    "        if match_ids(pair[0], pair[1]):\n",
    "            yield pair"
   ]
  },
  {
   "cell_type": "code",
   "execution_count": 20,
   "metadata": {},
   "outputs": [],
   "source": [
    "matches = find_matches()"
   ]
  }
 ],
 "metadata": {
  "kernelspec": {
   "display_name": "Python 3",
   "language": "python",
   "name": "python3"
  },
  "language_info": {
   "codemirror_mode": {
    "name": "ipython",
    "version": 3
   },
   "file_extension": ".py",
   "mimetype": "text/x-python",
   "name": "python",
   "nbconvert_exporter": "python",
   "pygments_lexer": "ipython3",
   "version": "3.6.6"
  }
 },
 "nbformat": 4,
 "nbformat_minor": 2
}
