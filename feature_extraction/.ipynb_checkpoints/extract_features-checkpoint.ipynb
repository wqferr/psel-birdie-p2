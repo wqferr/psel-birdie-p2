{
 "cells": [
  {
   "cell_type": "code",
   "execution_count": 1,
   "metadata": {},
   "outputs": [],
   "source": [
    "import pandas as pd"
   ]
  },
  {
   "cell_type": "code",
   "execution_count": 6,
   "metadata": {},
   "outputs": [
    {
     "data": {
      "text/html": [
       "<div>\n",
       "<style scoped>\n",
       "    .dataframe tbody tr th:only-of-type {\n",
       "        vertical-align: middle;\n",
       "    }\n",
       "\n",
       "    .dataframe tbody tr th {\n",
       "        vertical-align: top;\n",
       "    }\n",
       "\n",
       "    .dataframe thead th {\n",
       "        text-align: right;\n",
       "    }\n",
       "</style>\n",
       "<table border=\"1\" class=\"dataframe\">\n",
       "  <thead>\n",
       "    <tr style=\"text-align: right;\">\n",
       "      <th></th>\n",
       "      <th>TITLE</th>\n",
       "    </tr>\n",
       "    <tr>\n",
       "      <th>ID</th>\n",
       "      <th></th>\n",
       "    </tr>\n",
       "  </thead>\n",
       "  <tbody>\n",
       "    <tr>\n",
       "      <th>1043696</th>\n",
       "      <td>Interfone HDL AZ-01 Branco</td>\n",
       "    </tr>\n",
       "    <tr>\n",
       "      <th>2961099</th>\n",
       "      <td>Smartphone  Samsung Galaxy S5 SM-G900M Dourado...</td>\n",
       "    </tr>\n",
       "    <tr>\n",
       "      <th>3031744</th>\n",
       "      <td>Smartphone LG L90 Dual D410 Preto com Tela de ...</td>\n",
       "    </tr>\n",
       "    <tr>\n",
       "      <th>3507499</th>\n",
       "      <td>Smartphone Samsung Galaxy Pocket 2 Duos SM-G11...</td>\n",
       "    </tr>\n",
       "    <tr>\n",
       "      <th>3507899</th>\n",
       "      <td>Smartphone  Samsung Galaxy S5 Duos SM-G900 Pre...</td>\n",
       "    </tr>\n",
       "  </tbody>\n",
       "</table>\n",
       "</div>"
      ],
      "text/plain": [
       "                                                     TITLE\n",
       "ID                                                        \n",
       "1043696                         Interfone HDL AZ-01 Branco\n",
       "2961099  Smartphone  Samsung Galaxy S5 SM-G900M Dourado...\n",
       "3031744  Smartphone LG L90 Dual D410 Preto com Tela de ...\n",
       "3507499  Smartphone Samsung Galaxy Pocket 2 Duos SM-G11...\n",
       "3507899  Smartphone  Samsung Galaxy S5 Duos SM-G900 Pre..."
      ]
     },
     "execution_count": 6,
     "metadata": {},
     "output_type": "execute_result"
    }
   ],
   "source": [
    "data = pd.read_csv('smartphones.tsv', sep='\\t')\n",
    "data.set_index('ID', inplace=True)\n",
    "data.head()"
   ]
  }
 ],
 "metadata": {
  "kernelspec": {
   "display_name": "Python 3",
   "language": "python",
   "name": "python3"
  },
  "language_info": {
   "codemirror_mode": {
    "name": "ipython",
    "version": 3
   },
   "file_extension": ".py",
   "mimetype": "text/x-python",
   "name": "python",
   "nbconvert_exporter": "python",
   "pygments_lexer": "ipython3",
   "version": "3.6.6"
  }
 },
 "nbformat": 4,
 "nbformat_minor": 2
}
